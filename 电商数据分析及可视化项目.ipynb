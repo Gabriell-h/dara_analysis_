{
 "cells": [
  {
   "cell_type": "markdown",
   "metadata": {},
   "source": [
    "- 在这个项目中，我们所使用的数据在chinese11.csv当中，我们需要从这个文件中把数据读取出来，并进行一些分析。"
   ]
  },
  {
   "cell_type": "code",
   "execution_count": 41,
   "metadata": {
    "ExecuteTime": {
     "end_time": "2020-07-27T08:45:56.545284Z",
     "start_time": "2020-07-27T08:45:56.540949Z"
    }
   },
   "outputs": [],
   "source": [
    "# 导入一些可能使用到的库\n",
    "import pandas as pd\n",
    "import numpy as np\n",
    "import matplotlib.pyplot as plt\n",
    "import matplotlib as mpl\n",
    "mpl.rcParams['font.sans-serif']=['SimHei']\n",
    "mpl.rcParams['axes.unicode_minus']=False\n"
   ]
  },
  {
   "cell_type": "code",
   "execution_count": 34,
   "metadata": {
    "ExecuteTime": {
     "end_time": "2020-07-27T08:45:14.225965Z",
     "start_time": "2020-07-27T08:45:14.221414Z"
    }
   },
   "outputs": [],
   "source": [
    "# 这里是可以使用的一些十六进制的颜色\n",
    "colors = ['#F1948A', '#AED6F1','#F9E79F','#E5E8E8', '#F1948A', '#D0ECE7','#F6DDCC', '#D2B4DE',\n",
    "         '#117A65','#FAE5D3','#34495E','#DC7633','#D35400','#0E6251','#FCF3CF','#E8F8F5','#D4E6F1','#FADBD8','#E59866']\n"
   ]
  },
  {
   "cell_type": "markdown",
   "metadata": {},
   "source": [
    "## 数据探索性分析"
   ]
  },
  {
   "cell_type": "code",
   "execution_count": 35,
   "metadata": {
    "ExecuteTime": {
     "end_time": "2020-07-27T08:45:14.960712Z",
     "start_time": "2020-07-27T08:45:14.490123Z"
    }
   },
   "outputs": [
    {
     "data": {
      "text/html": [
       "<div>\n",
       "<style scoped>\n",
       "    .dataframe tbody tr th:only-of-type {\n",
       "        vertical-align: middle;\n",
       "    }\n",
       "\n",
       "    .dataframe tbody tr th {\n",
       "        vertical-align: top;\n",
       "    }\n",
       "\n",
       "    .dataframe thead th {\n",
       "        text-align: right;\n",
       "    }\n",
       "</style>\n",
       "<table border=\"1\" class=\"dataframe\">\n",
       "  <thead>\n",
       "    <tr style=\"text-align: right;\">\n",
       "      <th></th>\n",
       "      <th>User_ID</th>\n",
       "      <th>Product_ID</th>\n",
       "      <th>Gender</th>\n",
       "      <th>Age</th>\n",
       "      <th>Occupation</th>\n",
       "      <th>City_Category</th>\n",
       "      <th>Stay_In_Current_City_Years</th>\n",
       "      <th>Marital_Status</th>\n",
       "      <th>Product_Category_1</th>\n",
       "      <th>Product_Category_2</th>\n",
       "      <th>Product_Category_3</th>\n",
       "      <th>Purchase</th>\n",
       "    </tr>\n",
       "  </thead>\n",
       "  <tbody>\n",
       "    <tr>\n",
       "      <th>0</th>\n",
       "      <td>1000001</td>\n",
       "      <td>P00069042</td>\n",
       "      <td>F</td>\n",
       "      <td>0-17</td>\n",
       "      <td>10</td>\n",
       "      <td>A</td>\n",
       "      <td>2</td>\n",
       "      <td>0</td>\n",
       "      <td>3</td>\n",
       "      <td>NaN</td>\n",
       "      <td>NaN</td>\n",
       "      <td>8370</td>\n",
       "    </tr>\n",
       "    <tr>\n",
       "      <th>1</th>\n",
       "      <td>1000001</td>\n",
       "      <td>P00248942</td>\n",
       "      <td>F</td>\n",
       "      <td>0-17</td>\n",
       "      <td>10</td>\n",
       "      <td>A</td>\n",
       "      <td>2</td>\n",
       "      <td>0</td>\n",
       "      <td>1</td>\n",
       "      <td>6.0</td>\n",
       "      <td>14.0</td>\n",
       "      <td>15200</td>\n",
       "    </tr>\n",
       "    <tr>\n",
       "      <th>2</th>\n",
       "      <td>1000001</td>\n",
       "      <td>P00087842</td>\n",
       "      <td>F</td>\n",
       "      <td>0-17</td>\n",
       "      <td>10</td>\n",
       "      <td>A</td>\n",
       "      <td>2</td>\n",
       "      <td>0</td>\n",
       "      <td>12</td>\n",
       "      <td>NaN</td>\n",
       "      <td>NaN</td>\n",
       "      <td>1422</td>\n",
       "    </tr>\n",
       "    <tr>\n",
       "      <th>3</th>\n",
       "      <td>1000001</td>\n",
       "      <td>P00085442</td>\n",
       "      <td>F</td>\n",
       "      <td>0-17</td>\n",
       "      <td>10</td>\n",
       "      <td>A</td>\n",
       "      <td>2</td>\n",
       "      <td>0</td>\n",
       "      <td>12</td>\n",
       "      <td>14.0</td>\n",
       "      <td>NaN</td>\n",
       "      <td>1057</td>\n",
       "    </tr>\n",
       "    <tr>\n",
       "      <th>4</th>\n",
       "      <td>1000002</td>\n",
       "      <td>P00285442</td>\n",
       "      <td>M</td>\n",
       "      <td>55+</td>\n",
       "      <td>16</td>\n",
       "      <td>C</td>\n",
       "      <td>4+</td>\n",
       "      <td>0</td>\n",
       "      <td>8</td>\n",
       "      <td>NaN</td>\n",
       "      <td>NaN</td>\n",
       "      <td>7969</td>\n",
       "    </tr>\n",
       "  </tbody>\n",
       "</table>\n",
       "</div>"
      ],
      "text/plain": [
       "   User_ID Product_ID Gender   Age  Occupation City_Category  \\\n",
       "0  1000001  P00069042      F  0-17          10             A   \n",
       "1  1000001  P00248942      F  0-17          10             A   \n",
       "2  1000001  P00087842      F  0-17          10             A   \n",
       "3  1000001  P00085442      F  0-17          10             A   \n",
       "4  1000002  P00285442      M   55+          16             C   \n",
       "\n",
       "  Stay_In_Current_City_Years  Marital_Status  Product_Category_1  \\\n",
       "0                          2               0                   3   \n",
       "1                          2               0                   1   \n",
       "2                          2               0                  12   \n",
       "3                          2               0                  12   \n",
       "4                         4+               0                   8   \n",
       "\n",
       "   Product_Category_2  Product_Category_3  Purchase  \n",
       "0                 NaN                 NaN      8370  \n",
       "1                 6.0                14.0     15200  \n",
       "2                 NaN                 NaN      1422  \n",
       "3                14.0                 NaN      1057  \n",
       "4                 NaN                 NaN      7969  "
      ]
     },
     "execution_count": 35,
     "metadata": {},
     "output_type": "execute_result"
    }
   ],
   "source": [
    "f = 'chinese11.csv'\n",
    "data = pd.read_csv(f)\n",
    "data.head()"
   ]
  },
  {
   "cell_type": "markdown",
   "metadata": {},
   "source": [
    "## 数据结果说明\n",
    "- gender 性别\n",
    "- age 年龄\n",
    "- gender 性别\n",
    "- Occupation 职业\n",
    "- City_Category 城市类别\n",
    "- Stay_In_Current_City_Years 所在城市居住年数\n",
    "- Marital_Status 婚姻状况    \n",
    "- Product_Category_1 产品类别\n",
    "- Purchase 购买金额   "
   ]
  },
  {
   "cell_type": "code",
   "execution_count": 36,
   "metadata": {
    "ExecuteTime": {
     "end_time": "2020-07-27T08:45:15.001620Z",
     "start_time": "2020-07-27T08:45:14.997875Z"
    }
   },
   "outputs": [
    {
     "data": {
      "text/plain": [
       "(537577, 12)"
      ]
     },
     "execution_count": 36,
     "metadata": {},
     "output_type": "execute_result"
    }
   ],
   "source": [
    "#TODO  获取数据的形状，可以根据其形状做一些数据推断\n",
    "data.shape\n",
    "\n",
    "# 获取后的解释说明:每行数据代表了一笔交易，共有537,577笔交易记录在该数据集中。"
   ]
  },
  {
   "cell_type": "code",
   "execution_count": 37,
   "metadata": {
    "ExecuteTime": {
     "end_time": "2020-07-27T08:45:15.042776Z",
     "start_time": "2020-07-27T08:45:15.036930Z"
    }
   },
   "outputs": [
    {
     "data": {
      "text/plain": [
       "array([10, 16, 15,  7, 20,  9,  1, 12, 17,  0,  3,  4, 11,  8, 19,  2, 18,\n",
       "        5, 14, 13,  6])"
      ]
     },
     "execution_count": 37,
     "metadata": {},
     "output_type": "execute_result"
    }
   ],
   "source": [
    "# 获取一共有多少种职业\n",
    "data['Occupation'].unique()"
   ]
  },
  {
   "cell_type": "code",
   "execution_count": 7,
   "metadata": {
    "ExecuteTime": {
     "end_time": "2020-07-27T08:31:19.320590Z",
     "start_time": "2020-07-27T08:31:19.299980Z"
    }
   },
   "outputs": [
    {
     "data": {
      "text/plain": [
       "5891"
      ]
     },
     "execution_count": 7,
     "metadata": {},
     "output_type": "execute_result"
    }
   ],
   "source": [
    "# 计算出我们的数据中一共有多少用户的数据\n",
    "data['User_ID'].value_counts().count()"
   ]
  },
  {
   "cell_type": "code",
   "execution_count": 8,
   "metadata": {
    "ExecuteTime": {
     "end_time": "2020-07-27T08:31:19.515562Z",
     "start_time": "2020-07-27T08:31:19.346793Z"
    }
   },
   "outputs": [
    {
     "data": {
      "text/html": [
       "<div>\n",
       "<style scoped>\n",
       "    .dataframe tbody tr th:only-of-type {\n",
       "        vertical-align: middle;\n",
       "    }\n",
       "\n",
       "    .dataframe tbody tr th {\n",
       "        vertical-align: top;\n",
       "    }\n",
       "\n",
       "    .dataframe thead th {\n",
       "        text-align: right;\n",
       "    }\n",
       "</style>\n",
       "<table border=\"1\" class=\"dataframe\">\n",
       "  <thead>\n",
       "    <tr style=\"text-align: right;\">\n",
       "      <th></th>\n",
       "      <th>count</th>\n",
       "      <th>mean</th>\n",
       "      <th>std</th>\n",
       "      <th>min</th>\n",
       "      <th>25%</th>\n",
       "      <th>50%</th>\n",
       "      <th>75%</th>\n",
       "      <th>max</th>\n",
       "    </tr>\n",
       "  </thead>\n",
       "  <tbody>\n",
       "    <tr>\n",
       "      <th>User_ID</th>\n",
       "      <td>537577.0</td>\n",
       "      <td>1.002992e+06</td>\n",
       "      <td>1714.392695</td>\n",
       "      <td>1000001.0</td>\n",
       "      <td>1001495.0</td>\n",
       "      <td>1003031.0</td>\n",
       "      <td>1004417.0</td>\n",
       "      <td>1006040.0</td>\n",
       "    </tr>\n",
       "    <tr>\n",
       "      <th>Occupation</th>\n",
       "      <td>537577.0</td>\n",
       "      <td>8.082710e+00</td>\n",
       "      <td>6.524120</td>\n",
       "      <td>0.0</td>\n",
       "      <td>2.0</td>\n",
       "      <td>7.0</td>\n",
       "      <td>14.0</td>\n",
       "      <td>20.0</td>\n",
       "    </tr>\n",
       "    <tr>\n",
       "      <th>Marital_Status</th>\n",
       "      <td>537577.0</td>\n",
       "      <td>4.087973e-01</td>\n",
       "      <td>0.491612</td>\n",
       "      <td>0.0</td>\n",
       "      <td>0.0</td>\n",
       "      <td>0.0</td>\n",
       "      <td>1.0</td>\n",
       "      <td>1.0</td>\n",
       "    </tr>\n",
       "    <tr>\n",
       "      <th>Product_Category_1</th>\n",
       "      <td>537577.0</td>\n",
       "      <td>5.295546e+00</td>\n",
       "      <td>3.750701</td>\n",
       "      <td>1.0</td>\n",
       "      <td>1.0</td>\n",
       "      <td>5.0</td>\n",
       "      <td>8.0</td>\n",
       "      <td>18.0</td>\n",
       "    </tr>\n",
       "    <tr>\n",
       "      <th>Product_Category_2</th>\n",
       "      <td>370591.0</td>\n",
       "      <td>9.842144e+00</td>\n",
       "      <td>5.087259</td>\n",
       "      <td>2.0</td>\n",
       "      <td>5.0</td>\n",
       "      <td>9.0</td>\n",
       "      <td>15.0</td>\n",
       "      <td>18.0</td>\n",
       "    </tr>\n",
       "    <tr>\n",
       "      <th>Product_Category_3</th>\n",
       "      <td>164278.0</td>\n",
       "      <td>1.266984e+01</td>\n",
       "      <td>4.124341</td>\n",
       "      <td>3.0</td>\n",
       "      <td>9.0</td>\n",
       "      <td>14.0</td>\n",
       "      <td>16.0</td>\n",
       "      <td>18.0</td>\n",
       "    </tr>\n",
       "    <tr>\n",
       "      <th>Purchase</th>\n",
       "      <td>537577.0</td>\n",
       "      <td>9.333860e+03</td>\n",
       "      <td>4981.022133</td>\n",
       "      <td>185.0</td>\n",
       "      <td>5866.0</td>\n",
       "      <td>8062.0</td>\n",
       "      <td>12073.0</td>\n",
       "      <td>23961.0</td>\n",
       "    </tr>\n",
       "  </tbody>\n",
       "</table>\n",
       "</div>"
      ],
      "text/plain": [
       "                       count          mean          std        min        25%  \\\n",
       "User_ID             537577.0  1.002992e+06  1714.392695  1000001.0  1001495.0   \n",
       "Occupation          537577.0  8.082710e+00     6.524120        0.0        2.0   \n",
       "Marital_Status      537577.0  4.087973e-01     0.491612        0.0        0.0   \n",
       "Product_Category_1  537577.0  5.295546e+00     3.750701        1.0        1.0   \n",
       "Product_Category_2  370591.0  9.842144e+00     5.087259        2.0        5.0   \n",
       "Product_Category_3  164278.0  1.266984e+01     4.124341        3.0        9.0   \n",
       "Purchase            537577.0  9.333860e+03  4981.022133      185.0     5866.0   \n",
       "\n",
       "                          50%        75%        max  \n",
       "User_ID             1003031.0  1004417.0  1006040.0  \n",
       "Occupation                7.0       14.0       20.0  \n",
       "Marital_Status            0.0        1.0        1.0  \n",
       "Product_Category_1        5.0        8.0       18.0  \n",
       "Product_Category_2        9.0       15.0       18.0  \n",
       "Product_Category_3       14.0       16.0       18.0  \n",
       "Purchase               8062.0    12073.0    23961.0  "
      ]
     },
     "execution_count": 8,
     "metadata": {},
     "output_type": "execute_result"
    }
   ],
   "source": [
    "# 获取数据的描述\n",
    "data.describe().T"
   ]
  },
  {
   "cell_type": "markdown",
   "metadata": {},
   "source": [
    "### 在这里写出你能够从上述的描述中看到的一些问题。\n",
    "\n",
    "### TODO  \n",
    "- \n",
    "- \n",
    "- \n",
    "- \n"
   ]
  },
  {
   "cell_type": "markdown",
   "metadata": {},
   "source": [
    "## 缺失值查看"
   ]
  },
  {
   "cell_type": "code",
   "execution_count": 9,
   "metadata": {
    "ExecuteTime": {
     "end_time": "2020-07-27T08:31:20.963513Z",
     "start_time": "2020-07-27T08:31:20.848591Z"
    }
   },
   "outputs": [
    {
     "data": {
      "text/plain": [
       "User_ID                            0\n",
       "Product_ID                         0\n",
       "Gender                             0\n",
       "Age                                0\n",
       "Occupation                         0\n",
       "City_Category                      0\n",
       "Stay_In_Current_City_Years         0\n",
       "Marital_Status                     0\n",
       "Product_Category_1                 0\n",
       "Product_Category_2            166986\n",
       "Product_Category_3            373299\n",
       "Purchase                           0\n",
       "dtype: int64"
      ]
     },
     "execution_count": 9,
     "metadata": {},
     "output_type": "execute_result"
    }
   ],
   "source": [
    "\n",
    "## 统计数据的缺失值信息\n",
    "data.isna().sum()\n",
    "\n",
    "\n",
    "## 获取缺失值后的描述:根据统计，除了Product_Category_2与Product_Category_3列存在缺失值以外，其他列的数据都是无缺失值的。"
   ]
  },
  {
   "cell_type": "markdown",
   "metadata": {},
   "source": [
    "## 消费者性别"
   ]
  },
  {
   "cell_type": "code",
   "execution_count": 13,
   "metadata": {
    "ExecuteTime": {
     "end_time": "2020-07-27T08:31:49.198948Z",
     "start_time": "2020-07-27T08:31:49.120822Z"
    }
   },
   "outputs": [
    {
     "data": {
      "text/html": [
       "<div>\n",
       "<style scoped>\n",
       "    .dataframe tbody tr th:only-of-type {\n",
       "        vertical-align: middle;\n",
       "    }\n",
       "\n",
       "    .dataframe tbody tr th {\n",
       "        vertical-align: top;\n",
       "    }\n",
       "\n",
       "    .dataframe thead th {\n",
       "        text-align: right;\n",
       "    }\n",
       "</style>\n",
       "<table border=\"1\" class=\"dataframe\">\n",
       "  <thead>\n",
       "    <tr style=\"text-align: right;\">\n",
       "      <th></th>\n",
       "      <th>User_ID</th>\n",
       "      <th>Gender</th>\n",
       "      <th>Purchase</th>\n",
       "    </tr>\n",
       "  </thead>\n",
       "  <tbody>\n",
       "    <tr>\n",
       "      <th>0</th>\n",
       "      <td>1000001</td>\n",
       "      <td>F</td>\n",
       "      <td>333481</td>\n",
       "    </tr>\n",
       "    <tr>\n",
       "      <th>1</th>\n",
       "      <td>1000002</td>\n",
       "      <td>M</td>\n",
       "      <td>810353</td>\n",
       "    </tr>\n",
       "    <tr>\n",
       "      <th>2</th>\n",
       "      <td>1000003</td>\n",
       "      <td>M</td>\n",
       "      <td>341635</td>\n",
       "    </tr>\n",
       "    <tr>\n",
       "      <th>3</th>\n",
       "      <td>1000004</td>\n",
       "      <td>M</td>\n",
       "      <td>205987</td>\n",
       "    </tr>\n",
       "    <tr>\n",
       "      <th>4</th>\n",
       "      <td>1000005</td>\n",
       "      <td>M</td>\n",
       "      <td>821001</td>\n",
       "    </tr>\n",
       "    <tr>\n",
       "      <th>5</th>\n",
       "      <td>1000006</td>\n",
       "      <td>F</td>\n",
       "      <td>379450</td>\n",
       "    </tr>\n",
       "    <tr>\n",
       "      <th>6</th>\n",
       "      <td>1000007</td>\n",
       "      <td>M</td>\n",
       "      <td>234427</td>\n",
       "    </tr>\n",
       "    <tr>\n",
       "      <th>7</th>\n",
       "      <td>1000008</td>\n",
       "      <td>M</td>\n",
       "      <td>796545</td>\n",
       "    </tr>\n",
       "    <tr>\n",
       "      <th>8</th>\n",
       "      <td>1000009</td>\n",
       "      <td>M</td>\n",
       "      <td>593960</td>\n",
       "    </tr>\n",
       "    <tr>\n",
       "      <th>9</th>\n",
       "      <td>1000010</td>\n",
       "      <td>F</td>\n",
       "      <td>2169486</td>\n",
       "    </tr>\n",
       "  </tbody>\n",
       "</table>\n",
       "</div>"
      ],
      "text/plain": [
       "   User_ID Gender  Purchase\n",
       "0  1000001      F    333481\n",
       "1  1000002      M    810353\n",
       "2  1000003      M    341635\n",
       "3  1000004      M    205987\n",
       "4  1000005      M    821001\n",
       "5  1000006      F    379450\n",
       "6  1000007      M    234427\n",
       "7  1000008      M    796545\n",
       "8  1000009      M    593960\n",
       "9  1000010      F   2169486"
      ]
     },
     "execution_count": 13,
     "metadata": {},
     "output_type": "execute_result"
    }
   ],
   "source": [
    "# 按照用户id来进行综合统计其性别和消费的金额总和\n",
    "# 这里会使用到pivot_table，pandas中的透视表功能。\n",
    "# data1 =data.groupby(['User_ID']).sum()\n",
    "gender_purchase = pd.pivot_table(data=data,values=['Purchase'],index=['User_ID','Gender'],aggfunc=np.sum).reset_index()\n",
    "\n",
    "# 计算后查看数据\n",
    "gender_purchase.head(10)\n"
   ]
  },
  {
   "cell_type": "code",
   "execution_count": 21,
   "metadata": {
    "ExecuteTime": {
     "end_time": "2020-07-27T08:33:26.510413Z",
     "start_time": "2020-07-27T08:33:26.502254Z"
    }
   },
   "outputs": [
    {
     "data": {
      "text/plain": [
       "User_ID     5891\n",
       "Gender      5891\n",
       "Purchase    5891\n",
       "dtype: int64"
      ]
     },
     "execution_count": 21,
     "metadata": {},
     "output_type": "execute_result"
    }
   ],
   "source": [
    "# 计算消费者总数\n",
    "gender_purchase.count()"
   ]
  },
  {
   "cell_type": "code",
   "execution_count": 31,
   "metadata": {
    "ExecuteTime": {
     "end_time": "2020-07-27T08:42:54.397444Z",
     "start_time": "2020-07-27T08:42:54.375356Z"
    }
   },
   "outputs": [
    {
     "data": {
      "text/html": [
       "<div>\n",
       "<style scoped>\n",
       "    .dataframe tbody tr th:only-of-type {\n",
       "        vertical-align: middle;\n",
       "    }\n",
       "\n",
       "    .dataframe tbody tr th {\n",
       "        vertical-align: top;\n",
       "    }\n",
       "\n",
       "    .dataframe thead th {\n",
       "        text-align: right;\n",
       "    }\n",
       "</style>\n",
       "<table border=\"1\" class=\"dataframe\">\n",
       "  <thead>\n",
       "    <tr style=\"text-align: right;\">\n",
       "      <th></th>\n",
       "      <th>Gender</th>\n",
       "      <th>人数</th>\n",
       "      <th>占比</th>\n",
       "    </tr>\n",
       "  </thead>\n",
       "  <tbody>\n",
       "    <tr>\n",
       "      <th>0</th>\n",
       "      <td>F</td>\n",
       "      <td>1666</td>\n",
       "      <td>0.282804</td>\n",
       "    </tr>\n",
       "    <tr>\n",
       "      <th>1</th>\n",
       "      <td>M</td>\n",
       "      <td>4225</td>\n",
       "      <td>0.717196</td>\n",
       "    </tr>\n",
       "  </tbody>\n",
       "</table>\n",
       "</div>"
      ],
      "text/plain": [
       "  Gender    人数        占比\n",
       "0      F  1666  0.282804\n",
       "1      M  4225  0.717196"
      ]
     },
     "execution_count": 31,
     "metadata": {},
     "output_type": "execute_result"
    }
   ],
   "source": [
    "# 统计男女所占比例  \n",
    "gender_count = pd.pivot_table(data=gender_purchase,index='Gender',values='User_ID',aggfunc='count').reset_index().rename(columns={'User_ID':'人数'})\n",
    "# 这里写计算方法\n",
    "gender_count['占比'] = gender_count['人数'] / gender_count['人数'].sum()\n",
    "gender_count"
   ]
  },
  {
   "cell_type": "code",
   "execution_count": 50,
   "metadata": {
    "ExecuteTime": {
     "end_time": "2020-07-27T08:56:12.284518Z",
     "start_time": "2020-07-27T08:56:12.267551Z"
    }
   },
   "outputs": [
    {
     "data": {
      "text/html": [
       "<div>\n",
       "<style scoped>\n",
       "    .dataframe tbody tr th:only-of-type {\n",
       "        vertical-align: middle;\n",
       "    }\n",
       "\n",
       "    .dataframe tbody tr th {\n",
       "        vertical-align: top;\n",
       "    }\n",
       "\n",
       "    .dataframe thead th {\n",
       "        text-align: right;\n",
       "    }\n",
       "</style>\n",
       "<table border=\"1\" class=\"dataframe\">\n",
       "  <thead>\n",
       "    <tr style=\"text-align: right;\">\n",
       "      <th></th>\n",
       "      <th>Gender</th>\n",
       "      <th>Purchase</th>\n",
       "    </tr>\n",
       "  </thead>\n",
       "  <tbody>\n",
       "    <tr>\n",
       "      <th>0</th>\n",
       "      <td>F</td>\n",
       "      <td>1164624021</td>\n",
       "    </tr>\n",
       "    <tr>\n",
       "      <th>1</th>\n",
       "      <td>M</td>\n",
       "      <td>3853044357</td>\n",
       "    </tr>\n",
       "  </tbody>\n",
       "</table>\n",
       "</div>"
      ],
      "text/plain": [
       "  Gender    Purchase\n",
       "0      F  1164624021\n",
       "1      M  3853044357"
      ]
     },
     "execution_count": 50,
     "metadata": {},
     "output_type": "execute_result"
    }
   ],
   "source": [
    "gender_purchase_sum = pd.pivot_table(gender_purchase,index=['Gender'],values=['Purchase'],aggfunc=np.sum).reset_index()\n",
    "gender_purchase_sum"
   ]
  },
  {
   "cell_type": "code",
   "execution_count": 58,
   "metadata": {
    "ExecuteTime": {
     "end_time": "2020-07-27T09:03:05.241876Z",
     "start_time": "2020-07-27T09:03:05.174884Z"
    }
   },
   "outputs": [
    {
     "data": {
      "image/png": "[encoded data removed]",
      "text/plain": [
       "<Figure size 432x288 with 1 Axes>"
      ]
     },
     "metadata": {},
     "output_type": "display_data"
    }
   ],
   "source": [
    "\n",
    "# 绘制饼图，描述出男人和女人消费的总额比例\n",
    "\n",
    "plt.pie(gender_purchase_sum.Purchase,labels=gender_purchase_sum.Gender,autopct='%.2f%%',shadow=True,colors=colors[:2])\n",
    "\n",
    "\n",
    "# 画图完毕后，要加上一点描述\n",
    "\n",
    "plt.title('男人和女人消费总额比例',loc='right')\n",
    "\n",
    "# 展示图形\n",
    "plt.show()\n"
   ]
  },
  {
   "cell_type": "markdown",
   "metadata": {},
   "source": [
    "从这个结果中你可以得出来什么样的结论吗？\n",
    "\n",
    "比如男性和女性的人数占比，还有男性和女性的消费占比，你能看出来什么问题吗？\n",
    "\n",
    "\n"
   ]
  },
  {
   "cell_type": "code",
   "execution_count": 63,
   "metadata": {
    "ExecuteTime": {
     "end_time": "2020-07-27T09:15:00.303447Z",
     "start_time": "2020-07-27T09:15:00.137594Z"
    }
   },
   "outputs": [
    {
     "data": {
      "text/plain": [
       "Text(0.5, 1.0, '消费者的购物消费分布')"
      ]
     },
     "execution_count": 63,
     "metadata": {},
     "output_type": "execute_result"
    },
    {
     "data": {
      "image/png": "[encoded data removed]",
      "text/plain": [
       "<Figure size 720x432 with 1 Axes>"
      ]
     },
     "metadata": {
      "needs_background": "light"
     },
     "output_type": "display_data"
    }
   ],
   "source": [
    "# 这里我们画一个箱型图，来看一下消费者的购物消费分布\n",
    "\n",
    "# 首先把男人和女人分别的消费情况筛选出来\n",
    "y_female = gender_purchase[gender_purchase.Gender == 'F'].Purchase\n",
    "y_male = gender_purchase[gender_purchase.Gender == 'M'].Purchase\n",
    "\n",
    "\n",
    "# 这里就是画图了\n",
    "plt.figure(figsize=(10,6))\n",
    "labels=['女生消费分布','男生消费分布']\n",
    "bplot = plt.boxplot([y_female,y_male],labels=labels,sym='o',whis=1.5,widths=0.6,patch_artist=True,notch=True)\n",
    "for patch,color in zip(bplot['boxes'],colors[2:4]):\n",
    "    patch.set_facecolor(color)\n",
    "plt.ylabel('消费金额')\n",
    "plt.title('消费者的购物消费分布')\n",
    "\n",
    "\n",
    "\n"
   ]
  },
  {
   "cell_type": "markdown",
   "metadata": {},
   "source": [
    "从这个图中，我们可以看到女性整体购买力不及男性购买力。\n",
    "\n",
    "男性的消费比女性的消费更分散，因为男性的四分位距（IQR）更大\n",
    "女性与男性的消费平均值(虚线)都比中位数(直线)要高，这说明，由于少数消费者的购物消费相比其他人要高出许多，从而拉高了平均值。\n",
    "\n",
    "除了这些，你还能看出来哪些问题呢？？\n"
   ]
  },
  {
   "cell_type": "markdown",
   "metadata": {},
   "source": [
    "## 热销产品"
   ]
  },
  {
   "cell_type": "code",
   "execution_count": 93,
   "metadata": {
    "ExecuteTime": {
     "end_time": "2020-07-27T09:50:54.881048Z",
     "start_time": "2020-07-27T09:50:54.800481Z"
    }
   },
   "outputs": [
    {
     "data": {
      "text/html": [
       "<div>\n",
       "<style scoped>\n",
       "    .dataframe tbody tr th:only-of-type {\n",
       "        vertical-align: middle;\n",
       "    }\n",
       "\n",
       "    .dataframe tbody tr th {\n",
       "        vertical-align: top;\n",
       "    }\n",
       "\n",
       "    .dataframe thead th {\n",
       "        text-align: right;\n",
       "    }\n",
       "</style>\n",
       "<table border=\"1\" class=\"dataframe\">\n",
       "  <thead>\n",
       "    <tr style=\"text-align: right;\">\n",
       "      <th></th>\n",
       "      <th>Purchase</th>\n",
       "    </tr>\n",
       "    <tr>\n",
       "      <th>Product_ID</th>\n",
       "      <th></th>\n",
       "    </tr>\n",
       "  </thead>\n",
       "  <tbody>\n",
       "    <tr>\n",
       "      <th>P00000142</th>\n",
       "      <td>12592163</td>\n",
       "    </tr>\n",
       "    <tr>\n",
       "      <th>P00000242</th>\n",
       "      <td>3914901</td>\n",
       "    </tr>\n",
       "    <tr>\n",
       "      <th>P00000342</th>\n",
       "      <td>1261383</td>\n",
       "    </tr>\n",
       "    <tr>\n",
       "      <th>P00000442</th>\n",
       "      <td>441173</td>\n",
       "    </tr>\n",
       "    <tr>\n",
       "      <th>P00000542</th>\n",
       "      <td>791219</td>\n",
       "    </tr>\n",
       "    <tr>\n",
       "      <th>...</th>\n",
       "      <td>...</td>\n",
       "    </tr>\n",
       "    <tr>\n",
       "      <th>P0099442</th>\n",
       "      <td>2813314</td>\n",
       "    </tr>\n",
       "    <tr>\n",
       "      <th>P0099642</th>\n",
       "      <td>83710</td>\n",
       "    </tr>\n",
       "    <tr>\n",
       "      <th>P0099742</th>\n",
       "      <td>967072</td>\n",
       "    </tr>\n",
       "    <tr>\n",
       "      <th>P0099842</th>\n",
       "      <td>721334</td>\n",
       "    </tr>\n",
       "    <tr>\n",
       "      <th>P0099942</th>\n",
       "      <td>70843</td>\n",
       "    </tr>\n",
       "  </tbody>\n",
       "</table>\n",
       "<p>3623 rows × 1 columns</p>\n",
       "</div>"
      ],
      "text/plain": [
       "            Purchase\n",
       "Product_ID          \n",
       "P00000142   12592163\n",
       "P00000242    3914901\n",
       "P00000342    1261383\n",
       "P00000442     441173\n",
       "P00000542     791219\n",
       "...              ...\n",
       "P0099442     2813314\n",
       "P0099642       83710\n",
       "P0099742      967072\n",
       "P0099842      721334\n",
       "P0099942       70843\n",
       "\n",
       "[3623 rows x 1 columns]"
      ]
     },
     "execution_count": 93,
     "metadata": {},
     "output_type": "execute_result"
    }
   ],
   "source": [
    "# 获取前10名的热销产品\n",
    "# top10_sellers = pd.pivot_table(data=data,values='Purchase',index='Product_ID',aggfunc=np.sum)\n",
    "top10_sellers = pd.pivot_table(data=data,values=['Purchase'],index=['Product_ID'],aggfunc=len).reset_index()\\\n",
    ".sort_values(by='Purchase',ascending=False)[:10]\n",
    "#  这里需要使用透视表的功能进行计算\n",
    "top10_sellers\n"
   ]
  },
  {
   "cell_type": "code",
   "execution_count": null,
   "metadata": {},
   "outputs": [],
   "source": []
  },
  {
   "cell_type": "code",
   "execution_count": 76,
   "metadata": {
    "ExecuteTime": {
     "end_time": "2020-07-27T09:27:39.569496Z",
     "start_time": "2020-07-27T09:27:39.478440Z"
    }
   },
   "outputs": [
    {
     "data": {
      "text/html": [
       "<div>\n",
       "<style scoped>\n",
       "    .dataframe tbody tr th:only-of-type {\n",
       "        vertical-align: middle;\n",
       "    }\n",
       "\n",
       "    .dataframe tbody tr th {\n",
       "        vertical-align: top;\n",
       "    }\n",
       "\n",
       "    .dataframe thead th {\n",
       "        text-align: right;\n",
       "    }\n",
       "</style>\n",
       "<table border=\"1\" class=\"dataframe\">\n",
       "  <thead>\n",
       "    <tr style=\"text-align: right;\">\n",
       "      <th></th>\n",
       "      <th>User_ID</th>\n",
       "      <th>Product_ID</th>\n",
       "      <th>Gender</th>\n",
       "      <th>Age</th>\n",
       "      <th>Occupation</th>\n",
       "      <th>City_Category</th>\n",
       "      <th>Stay_In_Current_City_Years</th>\n",
       "      <th>Marital_Status</th>\n",
       "      <th>Product_Category_1</th>\n",
       "      <th>Product_Category_2</th>\n",
       "      <th>Product_Category_3</th>\n",
       "      <th>Purchase</th>\n",
       "    </tr>\n",
       "  </thead>\n",
       "  <tbody>\n",
       "    <tr>\n",
       "      <th>6</th>\n",
       "      <td>1000004</td>\n",
       "      <td>P00184942</td>\n",
       "      <td>M</td>\n",
       "      <td>46-50</td>\n",
       "      <td>7</td>\n",
       "      <td>B</td>\n",
       "      <td>2</td>\n",
       "      <td>1</td>\n",
       "      <td>1</td>\n",
       "      <td>8.0</td>\n",
       "      <td>17.0</td>\n",
       "      <td>19215</td>\n",
       "    </tr>\n",
       "    <tr>\n",
       "      <th>13</th>\n",
       "      <td>1000005</td>\n",
       "      <td>P00145042</td>\n",
       "      <td>M</td>\n",
       "      <td>26-35</td>\n",
       "      <td>20</td>\n",
       "      <td>A</td>\n",
       "      <td>1</td>\n",
       "      <td>1</td>\n",
       "      <td>1</td>\n",
       "      <td>2.0</td>\n",
       "      <td>5.0</td>\n",
       "      <td>15665</td>\n",
       "    </tr>\n",
       "    <tr>\n",
       "      <th>128</th>\n",
       "      <td>1000025</td>\n",
       "      <td>P00046742</td>\n",
       "      <td>M</td>\n",
       "      <td>18-25</td>\n",
       "      <td>4</td>\n",
       "      <td>C</td>\n",
       "      <td>4+</td>\n",
       "      <td>0</td>\n",
       "      <td>1</td>\n",
       "      <td>2.0</td>\n",
       "      <td>15.0</td>\n",
       "      <td>15770</td>\n",
       "    </tr>\n",
       "    <tr>\n",
       "      <th>224</th>\n",
       "      <td>1000042</td>\n",
       "      <td>P00046742</td>\n",
       "      <td>M</td>\n",
       "      <td>26-35</td>\n",
       "      <td>8</td>\n",
       "      <td>C</td>\n",
       "      <td>0</td>\n",
       "      <td>1</td>\n",
       "      <td>1</td>\n",
       "      <td>2.0</td>\n",
       "      <td>15.0</td>\n",
       "      <td>19433</td>\n",
       "    </tr>\n",
       "    <tr>\n",
       "      <th>235</th>\n",
       "      <td>1000044</td>\n",
       "      <td>P00112142</td>\n",
       "      <td>M</td>\n",
       "      <td>46-50</td>\n",
       "      <td>17</td>\n",
       "      <td>B</td>\n",
       "      <td>3</td>\n",
       "      <td>1</td>\n",
       "      <td>1</td>\n",
       "      <td>2.0</td>\n",
       "      <td>14.0</td>\n",
       "      <td>19072</td>\n",
       "    </tr>\n",
       "    <tr>\n",
       "      <th>342</th>\n",
       "      <td>1000058</td>\n",
       "      <td>P00110742</td>\n",
       "      <td>M</td>\n",
       "      <td>26-35</td>\n",
       "      <td>2</td>\n",
       "      <td>B</td>\n",
       "      <td>3</td>\n",
       "      <td>0</td>\n",
       "      <td>1</td>\n",
       "      <td>2.0</td>\n",
       "      <td>8.0</td>\n",
       "      <td>15824</td>\n",
       "    </tr>\n",
       "    <tr>\n",
       "      <th>399</th>\n",
       "      <td>1000066</td>\n",
       "      <td>P00265242</td>\n",
       "      <td>M</td>\n",
       "      <td>26-35</td>\n",
       "      <td>18</td>\n",
       "      <td>C</td>\n",
       "      <td>2</td>\n",
       "      <td>0</td>\n",
       "      <td>5</td>\n",
       "      <td>8.0</td>\n",
       "      <td>NaN</td>\n",
       "      <td>8652</td>\n",
       "    </tr>\n",
       "    <tr>\n",
       "      <th>406</th>\n",
       "      <td>1000069</td>\n",
       "      <td>P00184942</td>\n",
       "      <td>F</td>\n",
       "      <td>26-35</td>\n",
       "      <td>1</td>\n",
       "      <td>A</td>\n",
       "      <td>1</td>\n",
       "      <td>0</td>\n",
       "      <td>1</td>\n",
       "      <td>8.0</td>\n",
       "      <td>17.0</td>\n",
       "      <td>11715</td>\n",
       "    </tr>\n",
       "    <tr>\n",
       "      <th>467</th>\n",
       "      <td>1000086</td>\n",
       "      <td>P00145042</td>\n",
       "      <td>F</td>\n",
       "      <td>0-17</td>\n",
       "      <td>10</td>\n",
       "      <td>C</td>\n",
       "      <td>3</td>\n",
       "      <td>0</td>\n",
       "      <td>1</td>\n",
       "      <td>2.0</td>\n",
       "      <td>5.0</td>\n",
       "      <td>19283</td>\n",
       "    </tr>\n",
       "    <tr>\n",
       "      <th>546</th>\n",
       "      <td>1000100</td>\n",
       "      <td>P00059442</td>\n",
       "      <td>M</td>\n",
       "      <td>36-45</td>\n",
       "      <td>17</td>\n",
       "      <td>C</td>\n",
       "      <td>4+</td>\n",
       "      <td>0</td>\n",
       "      <td>6</td>\n",
       "      <td>8.0</td>\n",
       "      <td>16.0</td>\n",
       "      <td>12486</td>\n",
       "    </tr>\n",
       "  </tbody>\n",
       "</table>\n",
       "</div>"
      ],
      "text/plain": [
       "     User_ID Product_ID Gender    Age  Occupation City_Category  \\\n",
       "6    1000004  P00184942      M  46-50           7             B   \n",
       "13   1000005  P00145042      M  26-35          20             A   \n",
       "128  1000025  P00046742      M  18-25           4             C   \n",
       "224  1000042  P00046742      M  26-35           8             C   \n",
       "235  1000044  P00112142      M  46-50          17             B   \n",
       "342  1000058  P00110742      M  26-35           2             B   \n",
       "399  1000066  P00265242      M  26-35          18             C   \n",
       "406  1000069  P00184942      F  26-35           1             A   \n",
       "467  1000086  P00145042      F   0-17          10             C   \n",
       "546  1000100  P00059442      M  36-45          17             C   \n",
       "\n",
       "    Stay_In_Current_City_Years  Marital_Status  Product_Category_1  \\\n",
       "6                            2               1                   1   \n",
       "13                           1               1                   1   \n",
       "128                         4+               0                   1   \n",
       "224                          0               1                   1   \n",
       "235                          3               1                   1   \n",
       "342                          3               0                   1   \n",
       "399                          2               0                   5   \n",
       "406                          1               0                   1   \n",
       "467                          3               0                   1   \n",
       "546                         4+               0                   6   \n",
       "\n",
       "     Product_Category_2  Product_Category_3  Purchase  \n",
       "6                   8.0                17.0     19215  \n",
       "13                  2.0                 5.0     15665  \n",
       "128                 2.0                15.0     15770  \n",
       "224                 2.0                15.0     19433  \n",
       "235                 2.0                14.0     19072  \n",
       "342                 2.0                 8.0     15824  \n",
       "399                 8.0                 NaN      8652  \n",
       "406                 8.0                17.0     11715  \n",
       "467                 2.0                 5.0     19283  \n",
       "546                 8.0                16.0     12486  "
      ]
     },
     "execution_count": 76,
     "metadata": {},
     "output_type": "execute_result"
    }
   ],
   "source": [
    "# 看一下都哪些人购买了这些热销产品\n",
    "top_seller_buyers =   data[data['Product_ID'].isin(top10_sellers['Product_ID'])]\n",
    "# 计算出购买热销产品的人都是哪些\n",
    "\n",
    "top_seller_buyers.head(10)\n"
   ]
  },
  {
   "cell_type": "markdown",
   "metadata": {},
   "source": [
    "在以上的结果中，你是否发现 客户1000025和客户1000042买了同一款产品，但是购买价格确实不一样的。\n",
    "目前猜测出现这种现象的原因是这可能和不同店家的促销活动、线上亦或是线下不同的购买方式、使用不同的voucher code、discount code、客户不同的会员等级享有不同的优惠有着直接或间接的关系。\n"
   ]
  },
  {
   "cell_type": "markdown",
   "metadata": {},
   "source": [
    "## 热销产品销量与购买者性别之间的关系"
   ]
  },
  {
   "cell_type": "code",
   "execution_count": 78,
   "metadata": {
    "ExecuteTime": {
     "end_time": "2020-07-27T09:30:38.009046Z",
     "start_time": "2020-07-27T09:30:37.989340Z"
    }
   },
   "outputs": [
    {
     "data": {
      "text/html": [
       "<div>\n",
       "<style scoped>\n",
       "    .dataframe tbody tr th:only-of-type {\n",
       "        vertical-align: middle;\n",
       "    }\n",
       "\n",
       "    .dataframe tbody tr th {\n",
       "        vertical-align: top;\n",
       "    }\n",
       "\n",
       "    .dataframe thead th {\n",
       "        text-align: right;\n",
       "    }\n",
       "</style>\n",
       "<table border=\"1\" class=\"dataframe\">\n",
       "  <thead>\n",
       "    <tr style=\"text-align: right;\">\n",
       "      <th></th>\n",
       "      <th>Product_ID</th>\n",
       "      <th>Gender</th>\n",
       "      <th>Purchase</th>\n",
       "    </tr>\n",
       "  </thead>\n",
       "  <tbody>\n",
       "    <tr>\n",
       "      <th>0</th>\n",
       "      <td>P00025442</td>\n",
       "      <td>F</td>\n",
       "      <td>341</td>\n",
       "    </tr>\n",
       "    <tr>\n",
       "      <th>1</th>\n",
       "      <td>P00025442</td>\n",
       "      <td>M</td>\n",
       "      <td>1245</td>\n",
       "    </tr>\n",
       "    <tr>\n",
       "      <th>2</th>\n",
       "      <td>P00046742</td>\n",
       "      <td>F</td>\n",
       "      <td>301</td>\n",
       "    </tr>\n",
       "    <tr>\n",
       "      <th>3</th>\n",
       "      <td>P00046742</td>\n",
       "      <td>M</td>\n",
       "      <td>1116</td>\n",
       "    </tr>\n",
       "    <tr>\n",
       "      <th>4</th>\n",
       "      <td>P00057642</td>\n",
       "      <td>F</td>\n",
       "      <td>256</td>\n",
       "    </tr>\n",
       "    <tr>\n",
       "      <th>5</th>\n",
       "      <td>P00057642</td>\n",
       "      <td>M</td>\n",
       "      <td>1174</td>\n",
       "    </tr>\n",
       "    <tr>\n",
       "      <th>6</th>\n",
       "      <td>P00058042</td>\n",
       "      <td>F</td>\n",
       "      <td>378</td>\n",
       "    </tr>\n",
       "    <tr>\n",
       "      <th>7</th>\n",
       "      <td>P00058042</td>\n",
       "      <td>M</td>\n",
       "      <td>1018</td>\n",
       "    </tr>\n",
       "    <tr>\n",
       "      <th>8</th>\n",
       "      <td>P00059442</td>\n",
       "      <td>F</td>\n",
       "      <td>350</td>\n",
       "    </tr>\n",
       "    <tr>\n",
       "      <th>9</th>\n",
       "      <td>P00059442</td>\n",
       "      <td>M</td>\n",
       "      <td>1034</td>\n",
       "    </tr>\n",
       "  </tbody>\n",
       "</table>\n",
       "</div>"
      ],
      "text/plain": [
       "  Product_ID Gender  Purchase\n",
       "0  P00025442      F       341\n",
       "1  P00025442      M      1245\n",
       "2  P00046742      F       301\n",
       "3  P00046742      M      1116\n",
       "4  P00057642      F       256\n",
       "5  P00057642      M      1174\n",
       "6  P00058042      F       378\n",
       "7  P00058042      M      1018\n",
       "8  P00059442      F       350\n",
       "9  P00059442      M      1034"
      ]
     },
     "execution_count": 78,
     "metadata": {},
     "output_type": "execute_result"
    }
   ],
   "source": [
    "\n",
    "top_seller_gender = pd.pivot_table(top_seller_buyers,index=['Product_ID','Gender'],values='Purchase',aggfunc='count').reset_index()\n",
    "# 这里需要你计算一下热销产品销量和购买者性别之间的关系了\n",
    "\n",
    "\n",
    "top_seller_gender.head(10)"
   ]
  },
  {
   "cell_type": "code",
   "execution_count": 82,
   "metadata": {
    "ExecuteTime": {
     "end_time": "2020-07-27T09:34:20.699479Z",
     "start_time": "2020-07-27T09:34:20.527172Z"
    }
   },
   "outputs": [
    {
     "data": {
      "text/plain": [
       "Text(0.5, 1.0, '消费者性别与热销产品的销量关系图')"
      ]
     },
     "execution_count": 82,
     "metadata": {},
     "output_type": "execute_result"
    },
    {
     "data": {
      "image/png": "[encoded data removed]",
      "text/plain": [
       "<Figure size 720x432 with 1 Axes>"
      ]
     },
     "metadata": {
      "needs_background": "light"
     },
     "output_type": "display_data"
    }
   ],
   "source": [
    "# 这里需要画一个图，把购买者性别和热销产品销量的关系绘制出来\n",
    "plt.figure(figsize=(10,6))\n",
    "\n",
    "plt.bar(top_seller_gender['Gender'],top_seller_gender['Purchase'])\n",
    "plt.title('消费者性别与热销产品的销量关系图')\n",
    "\n",
    "\n"
   ]
  },
  {
   "cell_type": "markdown",
   "metadata": {},
   "source": [
    "同样的，在排名前十的销量产品中，男性购买热销产品的数量远远高于女性，虽然我们并不知道这些具体的产品是什么。\n",
    "\n"
   ]
  },
  {
   "cell_type": "markdown",
   "metadata": {},
   "source": [
    "## 热销产品的销量与城市的关系"
   ]
  },
  {
   "cell_type": "code",
   "execution_count": 84,
   "metadata": {
    "ExecuteTime": {
     "end_time": "2020-07-27T09:38:56.811310Z",
     "start_time": "2020-07-27T09:38:56.789852Z"
    }
   },
   "outputs": [
    {
     "data": {
      "text/html": [
       "<div>\n",
       "<style scoped>\n",
       "    .dataframe tbody tr th:only-of-type {\n",
       "        vertical-align: middle;\n",
       "    }\n",
       "\n",
       "    .dataframe tbody tr th {\n",
       "        vertical-align: top;\n",
       "    }\n",
       "\n",
       "    .dataframe thead th {\n",
       "        text-align: right;\n",
       "    }\n",
       "</style>\n",
       "<table border=\"1\" class=\"dataframe\">\n",
       "  <thead>\n",
       "    <tr style=\"text-align: right;\">\n",
       "      <th></th>\n",
       "      <th>Product_ID</th>\n",
       "      <th>City_Category</th>\n",
       "      <th>Purchase</th>\n",
       "    </tr>\n",
       "  </thead>\n",
       "  <tbody>\n",
       "    <tr>\n",
       "      <th>0</th>\n",
       "      <td>P00025442</td>\n",
       "      <td>A</td>\n",
       "      <td>317</td>\n",
       "    </tr>\n",
       "    <tr>\n",
       "      <th>1</th>\n",
       "      <td>P00025442</td>\n",
       "      <td>B</td>\n",
       "      <td>550</td>\n",
       "    </tr>\n",
       "    <tr>\n",
       "      <th>2</th>\n",
       "      <td>P00025442</td>\n",
       "      <td>C</td>\n",
       "      <td>719</td>\n",
       "    </tr>\n",
       "    <tr>\n",
       "      <th>3</th>\n",
       "      <td>P00046742</td>\n",
       "      <td>A</td>\n",
       "      <td>272</td>\n",
       "    </tr>\n",
       "    <tr>\n",
       "      <th>4</th>\n",
       "      <td>P00046742</td>\n",
       "      <td>B</td>\n",
       "      <td>531</td>\n",
       "    </tr>\n",
       "  </tbody>\n",
       "</table>\n",
       "</div>"
      ],
      "text/plain": [
       "  Product_ID City_Category  Purchase\n",
       "0  P00025442             A       317\n",
       "1  P00025442             B       550\n",
       "2  P00025442             C       719\n",
       "3  P00046742             A       272\n",
       "4  P00046742             B       531"
      ]
     },
     "execution_count": 84,
     "metadata": {},
     "output_type": "execute_result"
    }
   ],
   "source": [
    "top_seller_city = pd.pivot_table(data=top_seller_buyers,index=['Product_ID','City_Category'],values='Purchase',aggfunc=len).reset_index()\n",
    "# 这里需要你计算一下热销产品的销量和城市之间的关系\n",
    "top_seller_city.head()\n"
   ]
  },
  {
   "cell_type": "code",
   "execution_count": 86,
   "metadata": {
    "ExecuteTime": {
     "end_time": "2020-07-27T09:41:34.753410Z",
     "start_time": "2020-07-27T09:41:34.738116Z"
    }
   },
   "outputs": [
    {
     "data": {
      "text/html": [
       "<div>\n",
       "<style scoped>\n",
       "    .dataframe tbody tr th:only-of-type {\n",
       "        vertical-align: middle;\n",
       "    }\n",
       "\n",
       "    .dataframe tbody tr th {\n",
       "        vertical-align: top;\n",
       "    }\n",
       "\n",
       "    .dataframe thead th {\n",
       "        text-align: right;\n",
       "    }\n",
       "</style>\n",
       "<table border=\"1\" class=\"dataframe\">\n",
       "  <thead>\n",
       "    <tr style=\"text-align: right;\">\n",
       "      <th></th>\n",
       "      <th>City_Category</th>\n",
       "      <th>Purchase</th>\n",
       "    </tr>\n",
       "  </thead>\n",
       "  <tbody>\n",
       "    <tr>\n",
       "      <th>0</th>\n",
       "      <td>A</td>\n",
       "      <td>3082</td>\n",
       "    </tr>\n",
       "    <tr>\n",
       "      <th>1</th>\n",
       "      <td>B</td>\n",
       "      <td>5394</td>\n",
       "    </tr>\n",
       "    <tr>\n",
       "      <th>2</th>\n",
       "      <td>C</td>\n",
       "      <td>6533</td>\n",
       "    </tr>\n",
       "  </tbody>\n",
       "</table>\n",
       "</div>"
      ],
      "text/plain": [
       "  City_Category  Purchase\n",
       "0             A      3082\n",
       "1             B      5394\n",
       "2             C      6533"
      ]
     },
     "execution_count": 86,
     "metadata": {},
     "output_type": "execute_result"
    }
   ],
   "source": [
    "tem = pd.pivot_table(top_seller_city,index='City_Category',values='Purchase',aggfunc=np.sum).reset_index()\n",
    "tem"
   ]
  },
  {
   "cell_type": "code",
   "execution_count": 89,
   "metadata": {
    "ExecuteTime": {
     "end_time": "2020-07-27T09:43:28.763123Z",
     "start_time": "2020-07-27T09:43:28.623416Z"
    }
   },
   "outputs": [
    {
     "data": {
      "image/png": "[encoded data removed]",
      "text/plain": [
       "<Figure size 720x432 with 1 Axes>"
      ]
     },
     "metadata": {
      "needs_background": "light"
     },
     "output_type": "display_data"
    }
   ],
   "source": [
    "\n",
    "# 在这里把热销商品的销量和城市之间的关系绘制成为图形\n",
    "plt.figure(figsize=(10,6))\n",
    "plt.bar(tem['City_Category'],tem['Purchase'])\n",
    "plt.title('热销商品销量与城市的关系图')\n",
    "plt.show()\n",
    "\n"
   ]
  },
  {
   "cell_type": "markdown",
   "metadata": {},
   "source": [
    "## 热销产品的销售额与城市的关系"
   ]
  },
  {
   "cell_type": "code",
   "execution_count": 91,
   "metadata": {
    "ExecuteTime": {
     "end_time": "2020-07-27T09:46:05.766140Z",
     "start_time": "2020-07-27T09:46:05.749374Z"
    }
   },
   "outputs": [
    {
     "data": {
      "text/html": [
       "<div>\n",
       "<style scoped>\n",
       "    .dataframe tbody tr th:only-of-type {\n",
       "        vertical-align: middle;\n",
       "    }\n",
       "\n",
       "    .dataframe tbody tr th {\n",
       "        vertical-align: top;\n",
       "    }\n",
       "\n",
       "    .dataframe thead th {\n",
       "        text-align: right;\n",
       "    }\n",
       "</style>\n",
       "<table border=\"1\" class=\"dataframe\">\n",
       "  <thead>\n",
       "    <tr style=\"text-align: right;\">\n",
       "      <th></th>\n",
       "      <th>City_Category</th>\n",
       "      <th>Purchase</th>\n",
       "    </tr>\n",
       "  </thead>\n",
       "  <tbody>\n",
       "    <tr>\n",
       "      <th>0</th>\n",
       "      <td>A</td>\n",
       "      <td>43335136</td>\n",
       "    </tr>\n",
       "    <tr>\n",
       "      <th>1</th>\n",
       "      <td>B</td>\n",
       "      <td>77852883</td>\n",
       "    </tr>\n",
       "    <tr>\n",
       "      <th>2</th>\n",
       "      <td>C</td>\n",
       "      <td>94084204</td>\n",
       "    </tr>\n",
       "  </tbody>\n",
       "</table>\n",
       "</div>"
      ],
      "text/plain": [
       "  City_Category  Purchase\n",
       "0             A  43335136\n",
       "1             B  77852883\n",
       "2             C  94084204"
      ]
     },
     "execution_count": 91,
     "metadata": {},
     "output_type": "execute_result"
    }
   ],
   "source": [
    "top_seller_city2 =  pd.pivot_table(data=top_seller_buyers,index=['City_Category'],values='Purchase',aggfunc=np.sum).reset_index()\n",
    "\n",
    "# 注意，这里需要你来计算的是销售额\n",
    "\n",
    "top_seller_city2.head()"
   ]
  },
  {
   "cell_type": "code",
   "execution_count": 92,
   "metadata": {
    "ExecuteTime": {
     "end_time": "2020-07-27T09:48:34.722040Z",
     "start_time": "2020-07-27T09:48:34.589310Z"
    },
    "scrolled": true
   },
   "outputs": [
    {
     "data": {
      "image/png": "[encoded data removed]",
      "text/plain": [
       "<Figure size 720x432 with 1 Axes>"
      ]
     },
     "metadata": {
      "needs_background": "light"
     },
     "output_type": "display_data"
    }
   ],
   "source": [
    "# 这里需要绘制一下 热销产品的销售额 与 城市 的关系   ， 注意，这里是销售额\n",
    "plt.figure(figsize=(10,6))\n",
    "plt.bar(top_seller_city2['City_Category'],top_seller_city2['Purchase'])\n",
    "plt.title('热销产品的销售额与城市的关系图')\n",
    "plt.show()"
   ]
  },
  {
   "cell_type": "markdown",
   "metadata": {},
   "source": [
    "## 在这里，你来写一下能够从销量和销售额上分析出来哪些结果吗？比如哪类城市贡献和主要的销量，哪些城市贡献了重要的销售额，可以结合你的生活，猜测一下原因哦\n",
    "\n",
    "- A城市的销量最少，C城市的销量最多\n",
    "- A城市的销售额最少，C城市的销售额最多\n",
    "- C城市贡献了最大的销售量\n"
   ]
  },
  {
   "cell_type": "markdown",
   "metadata": {},
   "source": [
    "## 下面我们进一步分析，不同的城市，男性与女性购物的花销"
   ]
  },
  {
   "cell_type": "code",
   "execution_count": 95,
   "metadata": {
    "ExecuteTime": {
     "end_time": "2020-07-27T10:04:31.693291Z",
     "start_time": "2020-07-27T10:04:31.589052Z"
    }
   },
   "outputs": [
    {
     "data": {
      "text/html": [
       "<div>\n",
       "<style scoped>\n",
       "    .dataframe tbody tr th:only-of-type {\n",
       "        vertical-align: middle;\n",
       "    }\n",
       "\n",
       "    .dataframe tbody tr th {\n",
       "        vertical-align: top;\n",
       "    }\n",
       "\n",
       "    .dataframe thead th {\n",
       "        text-align: right;\n",
       "    }\n",
       "</style>\n",
       "<table border=\"1\" class=\"dataframe\">\n",
       "  <thead>\n",
       "    <tr style=\"text-align: right;\">\n",
       "      <th>City_Category</th>\n",
       "      <th>Gender</th>\n",
       "      <th>Age</th>\n",
       "      <th>A</th>\n",
       "      <th>B</th>\n",
       "      <th>C</th>\n",
       "    </tr>\n",
       "  </thead>\n",
       "  <tbody>\n",
       "    <tr>\n",
       "      <th>0</th>\n",
       "      <td>F</td>\n",
       "      <td>0-17</td>\n",
       "      <td>11262205</td>\n",
       "      <td>13730812</td>\n",
       "      <td>16833598</td>\n",
       "    </tr>\n",
       "    <tr>\n",
       "      <th>1</th>\n",
       "      <td>F</td>\n",
       "      <td>18-25</td>\n",
       "      <td>50215679</td>\n",
       "      <td>92415212</td>\n",
       "      <td>59578559</td>\n",
       "    </tr>\n",
       "    <tr>\n",
       "      <th>2</th>\n",
       "      <td>F</td>\n",
       "      <td>26-35</td>\n",
       "      <td>148523383</td>\n",
       "      <td>180093701</td>\n",
       "      <td>105240596</td>\n",
       "    </tr>\n",
       "    <tr>\n",
       "      <th>3</th>\n",
       "      <td>F</td>\n",
       "      <td>36-45</td>\n",
       "      <td>61143886</td>\n",
       "      <td>95347517</td>\n",
       "      <td>82519077</td>\n",
       "    </tr>\n",
       "    <tr>\n",
       "      <th>4</th>\n",
       "      <td>F</td>\n",
       "      <td>46-50</td>\n",
       "      <td>10678128</td>\n",
       "      <td>54472525</td>\n",
       "      <td>49646340</td>\n",
       "    </tr>\n",
       "    <tr>\n",
       "      <th>5</th>\n",
       "      <td>F</td>\n",
       "      <td>51-55</td>\n",
       "      <td>15286301</td>\n",
       "      <td>37331040</td>\n",
       "      <td>35355066</td>\n",
       "    </tr>\n",
       "    <tr>\n",
       "      <th>6</th>\n",
       "      <td>F</td>\n",
       "      <td>55+</td>\n",
       "      <td>3301694</td>\n",
       "      <td>11921944</td>\n",
       "      <td>29726758</td>\n",
       "    </tr>\n",
       "    <tr>\n",
       "      <th>7</th>\n",
       "      <td>M</td>\n",
       "      <td>0-17</td>\n",
       "      <td>10395014</td>\n",
       "      <td>33782970</td>\n",
       "      <td>46654407</td>\n",
       "    </tr>\n",
       "    <tr>\n",
       "      <th>8</th>\n",
       "      <td>M</td>\n",
       "      <td>18-25</td>\n",
       "      <td>189954309</td>\n",
       "      <td>292767819</td>\n",
       "      <td>216737702</td>\n",
       "    </tr>\n",
       "    <tr>\n",
       "      <th>9</th>\n",
       "      <td>M</td>\n",
       "      <td>26-35</td>\n",
       "      <td>499205289</td>\n",
       "      <td>645686249</td>\n",
       "      <td>420999888</td>\n",
       "    </tr>\n",
       "    <tr>\n",
       "      <th>10</th>\n",
       "      <td>M</td>\n",
       "      <td>36-45</td>\n",
       "      <td>175222709</td>\n",
       "      <td>331103247</td>\n",
       "      <td>265313129</td>\n",
       "    </tr>\n",
       "    <tr>\n",
       "      <th>11</th>\n",
       "      <td>M</td>\n",
       "      <td>46-50</td>\n",
       "      <td>51943307</td>\n",
       "      <td>130539559</td>\n",
       "      <td>116138364</td>\n",
       "    </tr>\n",
       "    <tr>\n",
       "      <th>12</th>\n",
       "      <td>M</td>\n",
       "      <td>51-55</td>\n",
       "      <td>41869584</td>\n",
       "      <td>126452857</td>\n",
       "      <td>105613508</td>\n",
       "    </tr>\n",
       "    <tr>\n",
       "      <th>13</th>\n",
       "      <td>M</td>\n",
       "      <td>55+</td>\n",
       "      <td>26667309</td>\n",
       "      <td>37786160</td>\n",
       "      <td>88210977</td>\n",
       "    </tr>\n",
       "  </tbody>\n",
       "</table>\n",
       "</div>"
      ],
      "text/plain": [
       "City_Category Gender    Age          A          B          C\n",
       "0                  F   0-17   11262205   13730812   16833598\n",
       "1                  F  18-25   50215679   92415212   59578559\n",
       "2                  F  26-35  148523383  180093701  105240596\n",
       "3                  F  36-45   61143886   95347517   82519077\n",
       "4                  F  46-50   10678128   54472525   49646340\n",
       "5                  F  51-55   15286301   37331040   35355066\n",
       "6                  F    55+    3301694   11921944   29726758\n",
       "7                  M   0-17   10395014   33782970   46654407\n",
       "8                  M  18-25  189954309  292767819  216737702\n",
       "9                  M  26-35  499205289  645686249  420999888\n",
       "10                 M  36-45  175222709  331103247  265313129\n",
       "11                 M  46-50   51943307  130539559  116138364\n",
       "12                 M  51-55   41869584  126452857  105613508\n",
       "13                 M    55+   26667309   37786160   88210977"
      ]
     },
     "execution_count": 95,
     "metadata": {},
     "output_type": "execute_result"
    }
   ],
   "source": [
    "# 获取到城市的信息\n",
    "city = data.pivot_table(values='Purchase', \n",
    "                        index=['Gender','Age'],\n",
    "                        columns=['City_Category'],\n",
    "                        aggfunc='sum').reset_index()\n",
    "city.head(20)"
   ]
  },
  {
   "cell_type": "code",
   "execution_count": 31,
   "metadata": {},
   "outputs": [
    {
     "data": {
      "text/plain": [
       "0      11262205\n",
       "1      50215679\n",
       "2     148523383\n",
       "3      61143886\n",
       "4      10678128\n",
       "5      15286301\n",
       "6       3301694\n",
       "7      10395014\n",
       "8     189954309\n",
       "9     499205289\n",
       "10    175222709\n",
       "11     51943307\n",
       "12     41869584\n",
       "13     26667309\n",
       "Name: A, dtype: int64"
      ]
     },
     "execution_count": 31,
     "metadata": {},
     "output_type": "execute_result"
    }
   ],
   "source": [
    "# A类城市，\n",
    "city.A"
   ]
  },
  {
   "cell_type": "code",
   "execution_count": 38,
   "metadata": {},
   "outputs": [
    {
     "data": {
      "text/html": [
       "<div>\n",
       "<style scoped>\n",
       "    .dataframe tbody tr th:only-of-type {\n",
       "        vertical-align: middle;\n",
       "    }\n",
       "\n",
       "    .dataframe tbody tr th {\n",
       "        vertical-align: top;\n",
       "    }\n",
       "\n",
       "    .dataframe thead th {\n",
       "        text-align: right;\n",
       "    }\n",
       "</style>\n",
       "<table border=\"1\" class=\"dataframe\">\n",
       "  <thead>\n",
       "    <tr style=\"text-align: right;\">\n",
       "      <th></th>\n",
       "      <th>City_Category</th>\n",
       "      <th>A</th>\n",
       "      <th>B</th>\n",
       "      <th>C</th>\n",
       "    </tr>\n",
       "    <tr>\n",
       "      <th>Gender</th>\n",
       "      <th>Age</th>\n",
       "      <th></th>\n",
       "      <th></th>\n",
       "      <th></th>\n",
       "    </tr>\n",
       "  </thead>\n",
       "  <tbody>\n",
       "    <tr>\n",
       "      <th rowspan=\"7\" valign=\"top\">F</th>\n",
       "      <th>0-17</th>\n",
       "      <td>11262205</td>\n",
       "      <td>13730812</td>\n",
       "      <td>16833598</td>\n",
       "    </tr>\n",
       "    <tr>\n",
       "      <th>18-25</th>\n",
       "      <td>50215679</td>\n",
       "      <td>92415212</td>\n",
       "      <td>59578559</td>\n",
       "    </tr>\n",
       "    <tr>\n",
       "      <th>26-35</th>\n",
       "      <td>148523383</td>\n",
       "      <td>180093701</td>\n",
       "      <td>105240596</td>\n",
       "    </tr>\n",
       "    <tr>\n",
       "      <th>36-45</th>\n",
       "      <td>61143886</td>\n",
       "      <td>95347517</td>\n",
       "      <td>82519077</td>\n",
       "    </tr>\n",
       "    <tr>\n",
       "      <th>46-50</th>\n",
       "      <td>10678128</td>\n",
       "      <td>54472525</td>\n",
       "      <td>49646340</td>\n",
       "    </tr>\n",
       "    <tr>\n",
       "      <th>51-55</th>\n",
       "      <td>15286301</td>\n",
       "      <td>37331040</td>\n",
       "      <td>35355066</td>\n",
       "    </tr>\n",
       "    <tr>\n",
       "      <th>55+</th>\n",
       "      <td>3301694</td>\n",
       "      <td>11921944</td>\n",
       "      <td>29726758</td>\n",
       "    </tr>\n",
       "    <tr>\n",
       "      <th rowspan=\"7\" valign=\"top\">M</th>\n",
       "      <th>0-17</th>\n",
       "      <td>10395014</td>\n",
       "      <td>33782970</td>\n",
       "      <td>46654407</td>\n",
       "    </tr>\n",
       "    <tr>\n",
       "      <th>18-25</th>\n",
       "      <td>189954309</td>\n",
       "      <td>292767819</td>\n",
       "      <td>216737702</td>\n",
       "    </tr>\n",
       "    <tr>\n",
       "      <th>26-35</th>\n",
       "      <td>499205289</td>\n",
       "      <td>645686249</td>\n",
       "      <td>420999888</td>\n",
       "    </tr>\n",
       "    <tr>\n",
       "      <th>36-45</th>\n",
       "      <td>175222709</td>\n",
       "      <td>331103247</td>\n",
       "      <td>265313129</td>\n",
       "    </tr>\n",
       "    <tr>\n",
       "      <th>46-50</th>\n",
       "      <td>51943307</td>\n",
       "      <td>130539559</td>\n",
       "      <td>116138364</td>\n",
       "    </tr>\n",
       "    <tr>\n",
       "      <th>51-55</th>\n",
       "      <td>41869584</td>\n",
       "      <td>126452857</td>\n",
       "      <td>105613508</td>\n",
       "    </tr>\n",
       "    <tr>\n",
       "      <th>55+</th>\n",
       "      <td>26667309</td>\n",
       "      <td>37786160</td>\n",
       "      <td>88210977</td>\n",
       "    </tr>\n",
       "  </tbody>\n",
       "</table>\n",
       "</div>"
      ],
      "text/plain": [
       "City_Category          A          B          C\n",
       "Gender Age                                    \n",
       "F      0-17     11262205   13730812   16833598\n",
       "       18-25    50215679   92415212   59578559\n",
       "       26-35   148523383  180093701  105240596\n",
       "       36-45    61143886   95347517   82519077\n",
       "       46-50    10678128   54472525   49646340\n",
       "       51-55    15286301   37331040   35355066\n",
       "       55+       3301694   11921944   29726758\n",
       "M      0-17     10395014   33782970   46654407\n",
       "       18-25   189954309  292767819  216737702\n",
       "       26-35   499205289  645686249  420999888\n",
       "       36-45   175222709  331103247  265313129\n",
       "       46-50    51943307  130539559  116138364\n",
       "       51-55    41869584  126452857  105613508\n",
       "       55+      26667309   37786160   88210977"
      ]
     },
     "execution_count": 38,
     "metadata": {},
     "output_type": "execute_result"
    }
   ],
   "source": [
    "# 按照数据分组查看\n",
    "data.groupby(by = ['Gender','Age','City_Category'])['Purchase'].sum().unstack()\n"
   ]
  },
  {
   "cell_type": "markdown",
   "metadata": {},
   "source": [
    "## 男性 vs 女性 消费者的购物花销"
   ]
  },
  {
   "cell_type": "code",
   "execution_count": 96,
   "metadata": {
    "ExecuteTime": {
     "end_time": "2020-07-27T10:08:34.088819Z",
     "start_time": "2020-07-27T10:08:33.964852Z"
    }
   },
   "outputs": [
    {
     "data": {
      "text/html": [
       "<div>\n",
       "<style scoped>\n",
       "    .dataframe tbody tr th:only-of-type {\n",
       "        vertical-align: middle;\n",
       "    }\n",
       "\n",
       "    .dataframe tbody tr th {\n",
       "        vertical-align: top;\n",
       "    }\n",
       "\n",
       "    .dataframe thead th {\n",
       "        text-align: right;\n",
       "    }\n",
       "</style>\n",
       "<table border=\"1\" class=\"dataframe\">\n",
       "  <thead>\n",
       "    <tr style=\"text-align: right;\">\n",
       "      <th></th>\n",
       "      <th>Gender</th>\n",
       "      <th>Age</th>\n",
       "      <th>City_Category</th>\n",
       "      <th>Purchase</th>\n",
       "    </tr>\n",
       "  </thead>\n",
       "  <tbody>\n",
       "    <tr>\n",
       "      <th>0</th>\n",
       "      <td>F</td>\n",
       "      <td>0-17</td>\n",
       "      <td>A</td>\n",
       "      <td>11262205</td>\n",
       "    </tr>\n",
       "    <tr>\n",
       "      <th>1</th>\n",
       "      <td>F</td>\n",
       "      <td>0-17</td>\n",
       "      <td>B</td>\n",
       "      <td>13730812</td>\n",
       "    </tr>\n",
       "    <tr>\n",
       "      <th>2</th>\n",
       "      <td>F</td>\n",
       "      <td>0-17</td>\n",
       "      <td>C</td>\n",
       "      <td>16833598</td>\n",
       "    </tr>\n",
       "    <tr>\n",
       "      <th>3</th>\n",
       "      <td>F</td>\n",
       "      <td>18-25</td>\n",
       "      <td>A</td>\n",
       "      <td>50215679</td>\n",
       "    </tr>\n",
       "    <tr>\n",
       "      <th>4</th>\n",
       "      <td>F</td>\n",
       "      <td>18-25</td>\n",
       "      <td>B</td>\n",
       "      <td>92415212</td>\n",
       "    </tr>\n",
       "    <tr>\n",
       "      <th>5</th>\n",
       "      <td>F</td>\n",
       "      <td>18-25</td>\n",
       "      <td>C</td>\n",
       "      <td>59578559</td>\n",
       "    </tr>\n",
       "    <tr>\n",
       "      <th>6</th>\n",
       "      <td>F</td>\n",
       "      <td>26-35</td>\n",
       "      <td>A</td>\n",
       "      <td>148523383</td>\n",
       "    </tr>\n",
       "    <tr>\n",
       "      <th>7</th>\n",
       "      <td>F</td>\n",
       "      <td>26-35</td>\n",
       "      <td>B</td>\n",
       "      <td>180093701</td>\n",
       "    </tr>\n",
       "    <tr>\n",
       "      <th>8</th>\n",
       "      <td>F</td>\n",
       "      <td>26-35</td>\n",
       "      <td>C</td>\n",
       "      <td>105240596</td>\n",
       "    </tr>\n",
       "    <tr>\n",
       "      <th>9</th>\n",
       "      <td>F</td>\n",
       "      <td>36-45</td>\n",
       "      <td>A</td>\n",
       "      <td>61143886</td>\n",
       "    </tr>\n",
       "    <tr>\n",
       "      <th>10</th>\n",
       "      <td>F</td>\n",
       "      <td>36-45</td>\n",
       "      <td>B</td>\n",
       "      <td>95347517</td>\n",
       "    </tr>\n",
       "    <tr>\n",
       "      <th>11</th>\n",
       "      <td>F</td>\n",
       "      <td>36-45</td>\n",
       "      <td>C</td>\n",
       "      <td>82519077</td>\n",
       "    </tr>\n",
       "    <tr>\n",
       "      <th>12</th>\n",
       "      <td>F</td>\n",
       "      <td>46-50</td>\n",
       "      <td>A</td>\n",
       "      <td>10678128</td>\n",
       "    </tr>\n",
       "    <tr>\n",
       "      <th>13</th>\n",
       "      <td>F</td>\n",
       "      <td>46-50</td>\n",
       "      <td>B</td>\n",
       "      <td>54472525</td>\n",
       "    </tr>\n",
       "    <tr>\n",
       "      <th>14</th>\n",
       "      <td>F</td>\n",
       "      <td>46-50</td>\n",
       "      <td>C</td>\n",
       "      <td>49646340</td>\n",
       "    </tr>\n",
       "    <tr>\n",
       "      <th>15</th>\n",
       "      <td>F</td>\n",
       "      <td>51-55</td>\n",
       "      <td>A</td>\n",
       "      <td>15286301</td>\n",
       "    </tr>\n",
       "    <tr>\n",
       "      <th>16</th>\n",
       "      <td>F</td>\n",
       "      <td>51-55</td>\n",
       "      <td>B</td>\n",
       "      <td>37331040</td>\n",
       "    </tr>\n",
       "    <tr>\n",
       "      <th>17</th>\n",
       "      <td>F</td>\n",
       "      <td>51-55</td>\n",
       "      <td>C</td>\n",
       "      <td>35355066</td>\n",
       "    </tr>\n",
       "    <tr>\n",
       "      <th>18</th>\n",
       "      <td>F</td>\n",
       "      <td>55+</td>\n",
       "      <td>A</td>\n",
       "      <td>3301694</td>\n",
       "    </tr>\n",
       "    <tr>\n",
       "      <th>19</th>\n",
       "      <td>F</td>\n",
       "      <td>55+</td>\n",
       "      <td>B</td>\n",
       "      <td>11921944</td>\n",
       "    </tr>\n",
       "  </tbody>\n",
       "</table>\n",
       "</div>"
      ],
      "text/plain": [
       "   Gender    Age City_Category   Purchase\n",
       "0       F   0-17             A   11262205\n",
       "1       F   0-17             B   13730812\n",
       "2       F   0-17             C   16833598\n",
       "3       F  18-25             A   50215679\n",
       "4       F  18-25             B   92415212\n",
       "5       F  18-25             C   59578559\n",
       "6       F  26-35             A  148523383\n",
       "7       F  26-35             B  180093701\n",
       "8       F  26-35             C  105240596\n",
       "9       F  36-45             A   61143886\n",
       "10      F  36-45             B   95347517\n",
       "11      F  36-45             C   82519077\n",
       "12      F  46-50             A   10678128\n",
       "13      F  46-50             B   54472525\n",
       "14      F  46-50             C   49646340\n",
       "15      F  51-55             A   15286301\n",
       "16      F  51-55             B   37331040\n",
       "17      F  51-55             C   35355066\n",
       "18      F    55+             A    3301694\n",
       "19      F    55+             B   11921944"
      ]
     },
     "execution_count": 96,
     "metadata": {},
     "output_type": "execute_result"
    }
   ],
   "source": [
    "# 这里需要你自己来进行计算啦。使用透视表的功能，来进行数据统计计算。\n",
    "# 按照性别、年龄、城市分别计算出它们\n",
    "city_gender = pd.pivot_table(data,index=['Gender','Age','City_Category'],values='Purchase',aggfunc=np.sum).reset_index()\n",
    "\n",
    "# 查看计算后的效果\n",
    "city_gender.head(20)"
   ]
  },
  {
   "cell_type": "code",
   "execution_count": 102,
   "metadata": {
    "ExecuteTime": {
     "end_time": "2020-07-27T10:23:35.325232Z",
     "start_time": "2020-07-27T10:23:35.305211Z"
    }
   },
   "outputs": [
    {
     "data": {
      "text/html": [
       "<div>\n",
       "<style scoped>\n",
       "    .dataframe tbody tr th:only-of-type {\n",
       "        vertical-align: middle;\n",
       "    }\n",
       "\n",
       "    .dataframe tbody tr th {\n",
       "        vertical-align: top;\n",
       "    }\n",
       "\n",
       "    .dataframe thead th {\n",
       "        text-align: right;\n",
       "    }\n",
       "</style>\n",
       "<table border=\"1\" class=\"dataframe\">\n",
       "  <thead>\n",
       "    <tr style=\"text-align: right;\">\n",
       "      <th></th>\n",
       "      <th>Gender</th>\n",
       "      <th>City_Category</th>\n",
       "      <th>Purchase</th>\n",
       "    </tr>\n",
       "  </thead>\n",
       "  <tbody>\n",
       "    <tr>\n",
       "      <th>0</th>\n",
       "      <td>F</td>\n",
       "      <td>A</td>\n",
       "      <td>300411276</td>\n",
       "    </tr>\n",
       "    <tr>\n",
       "      <th>1</th>\n",
       "      <td>F</td>\n",
       "      <td>B</td>\n",
       "      <td>485312751</td>\n",
       "    </tr>\n",
       "    <tr>\n",
       "      <th>2</th>\n",
       "      <td>F</td>\n",
       "      <td>C</td>\n",
       "      <td>378899994</td>\n",
       "    </tr>\n",
       "    <tr>\n",
       "      <th>3</th>\n",
       "      <td>M</td>\n",
       "      <td>A</td>\n",
       "      <td>995257521</td>\n",
       "    </tr>\n",
       "    <tr>\n",
       "      <th>4</th>\n",
       "      <td>M</td>\n",
       "      <td>B</td>\n",
       "      <td>1598118861</td>\n",
       "    </tr>\n",
       "    <tr>\n",
       "      <th>5</th>\n",
       "      <td>M</td>\n",
       "      <td>C</td>\n",
       "      <td>1259667975</td>\n",
       "    </tr>\n",
       "  </tbody>\n",
       "</table>\n",
       "</div>"
      ],
      "text/plain": [
       "  Gender City_Category    Purchase\n",
       "0      F             A   300411276\n",
       "1      F             B   485312751\n",
       "2      F             C   378899994\n",
       "3      M             A   995257521\n",
       "4      M             B  1598118861\n",
       "5      M             C  1259667975"
      ]
     },
     "execution_count": 102,
     "metadata": {},
     "output_type": "execute_result"
    }
   ],
   "source": [
    "city_gender1 = pd.pivot_table(city_gender,index=['Gender','City_Category'],values='Purchase',aggfunc=np.sum).reset_index()\n",
    "city_gender1"
   ]
  },
  {
   "cell_type": "code",
   "execution_count": 103,
   "metadata": {
    "ExecuteTime": {
     "end_time": "2020-07-27T10:23:49.524309Z",
     "start_time": "2020-07-27T10:23:49.348058Z"
    }
   },
   "outputs": [
    {
     "data": {
      "image/png": "[encoded data removed]",
      "text/plain": [
       "<Figure size 648x360 with 1 Axes>"
      ]
     },
     "metadata": {
      "needs_background": "light"
     },
     "output_type": "display_data"
    }
   ],
   "source": [
    "# 这里需要把不同 不同城市中 男性 和 女性 消费者的购物花销绘制成为一个柱状图，让男性和女性有一个对比的效果\n",
    "x = np.arange(3)\n",
    "bar_width = 0.35\n",
    "tick_label = ['A','B','C']\n",
    "plt.figure(figsize = (9,5))\n",
    "plt.bar(x,city_gender1[city_gender1['Gender'] =='F']['Purchase'],bar_width,color='c',align='center',label= '女人',alpha=0.5)\n",
    "plt.bar(x+bar_width,city_gender1[city_gender1['Gender'] =='M']['Purchase'],bar_width,color='b',align='center',label='男人',alpha=0.3)\n",
    "plt.xlabel('城市代号')\n",
    "plt.ylabel('男女比例')\n",
    "plt.title('不同城市中男性和女性消费者的购物图')\n",
    "plt.xticks(x+bar_width/2,tick_label)\n",
    "plt.legend()\n",
    "plt.show()"
   ]
  },
  {
   "cell_type": "code",
   "execution_count": null,
   "metadata": {},
   "outputs": [],
   "source": []
  },
  {
   "cell_type": "markdown",
   "metadata": {},
   "source": [
    "## 不同年龄段消费者的购物花销"
   ]
  },
  {
   "cell_type": "code",
   "execution_count": 104,
   "metadata": {
    "ExecuteTime": {
     "end_time": "2020-07-27T10:25:23.664465Z",
     "start_time": "2020-07-27T10:25:23.566026Z"
    }
   },
   "outputs": [
    {
     "data": {
      "text/html": [
       "<div>\n",
       "<style scoped>\n",
       "    .dataframe tbody tr th:only-of-type {\n",
       "        vertical-align: middle;\n",
       "    }\n",
       "\n",
       "    .dataframe tbody tr th {\n",
       "        vertical-align: top;\n",
       "    }\n",
       "\n",
       "    .dataframe thead th {\n",
       "        text-align: right;\n",
       "    }\n",
       "</style>\n",
       "<table border=\"1\" class=\"dataframe\">\n",
       "  <thead>\n",
       "    <tr style=\"text-align: right;\">\n",
       "      <th></th>\n",
       "      <th>Age</th>\n",
       "      <th>City_Category</th>\n",
       "      <th>Purchase</th>\n",
       "    </tr>\n",
       "  </thead>\n",
       "  <tbody>\n",
       "    <tr>\n",
       "      <th>0</th>\n",
       "      <td>0-17</td>\n",
       "      <td>A</td>\n",
       "      <td>21657219</td>\n",
       "    </tr>\n",
       "    <tr>\n",
       "      <th>1</th>\n",
       "      <td>0-17</td>\n",
       "      <td>B</td>\n",
       "      <td>47513782</td>\n",
       "    </tr>\n",
       "    <tr>\n",
       "      <th>2</th>\n",
       "      <td>0-17</td>\n",
       "      <td>C</td>\n",
       "      <td>63488005</td>\n",
       "    </tr>\n",
       "    <tr>\n",
       "      <th>3</th>\n",
       "      <td>18-25</td>\n",
       "      <td>A</td>\n",
       "      <td>240169988</td>\n",
       "    </tr>\n",
       "    <tr>\n",
       "      <th>4</th>\n",
       "      <td>18-25</td>\n",
       "      <td>B</td>\n",
       "      <td>385183031</td>\n",
       "    </tr>\n",
       "    <tr>\n",
       "      <th>5</th>\n",
       "      <td>18-25</td>\n",
       "      <td>C</td>\n",
       "      <td>276316261</td>\n",
       "    </tr>\n",
       "    <tr>\n",
       "      <th>6</th>\n",
       "      <td>26-35</td>\n",
       "      <td>A</td>\n",
       "      <td>647728672</td>\n",
       "    </tr>\n",
       "    <tr>\n",
       "      <th>7</th>\n",
       "      <td>26-35</td>\n",
       "      <td>B</td>\n",
       "      <td>825779950</td>\n",
       "    </tr>\n",
       "    <tr>\n",
       "      <th>8</th>\n",
       "      <td>26-35</td>\n",
       "      <td>C</td>\n",
       "      <td>526240484</td>\n",
       "    </tr>\n",
       "    <tr>\n",
       "      <th>9</th>\n",
       "      <td>36-45</td>\n",
       "      <td>A</td>\n",
       "      <td>236366595</td>\n",
       "    </tr>\n",
       "    <tr>\n",
       "      <th>10</th>\n",
       "      <td>36-45</td>\n",
       "      <td>B</td>\n",
       "      <td>426450764</td>\n",
       "    </tr>\n",
       "    <tr>\n",
       "      <th>11</th>\n",
       "      <td>36-45</td>\n",
       "      <td>C</td>\n",
       "      <td>347832206</td>\n",
       "    </tr>\n",
       "    <tr>\n",
       "      <th>12</th>\n",
       "      <td>46-50</td>\n",
       "      <td>A</td>\n",
       "      <td>62621435</td>\n",
       "    </tr>\n",
       "    <tr>\n",
       "      <th>13</th>\n",
       "      <td>46-50</td>\n",
       "      <td>B</td>\n",
       "      <td>185012084</td>\n",
       "    </tr>\n",
       "    <tr>\n",
       "      <th>14</th>\n",
       "      <td>46-50</td>\n",
       "      <td>C</td>\n",
       "      <td>165784704</td>\n",
       "    </tr>\n",
       "    <tr>\n",
       "      <th>15</th>\n",
       "      <td>51-55</td>\n",
       "      <td>A</td>\n",
       "      <td>57155885</td>\n",
       "    </tr>\n",
       "    <tr>\n",
       "      <th>16</th>\n",
       "      <td>51-55</td>\n",
       "      <td>B</td>\n",
       "      <td>163783897</td>\n",
       "    </tr>\n",
       "    <tr>\n",
       "      <th>17</th>\n",
       "      <td>51-55</td>\n",
       "      <td>C</td>\n",
       "      <td>140968574</td>\n",
       "    </tr>\n",
       "    <tr>\n",
       "      <th>18</th>\n",
       "      <td>55+</td>\n",
       "      <td>A</td>\n",
       "      <td>29969003</td>\n",
       "    </tr>\n",
       "    <tr>\n",
       "      <th>19</th>\n",
       "      <td>55+</td>\n",
       "      <td>B</td>\n",
       "      <td>49708104</td>\n",
       "    </tr>\n",
       "  </tbody>\n",
       "</table>\n",
       "</div>"
      ],
      "text/plain": [
       "      Age City_Category   Purchase\n",
       "0    0-17             A   21657219\n",
       "1    0-17             B   47513782\n",
       "2    0-17             C   63488005\n",
       "3   18-25             A  240169988\n",
       "4   18-25             B  385183031\n",
       "5   18-25             C  276316261\n",
       "6   26-35             A  647728672\n",
       "7   26-35             B  825779950\n",
       "8   26-35             C  526240484\n",
       "9   36-45             A  236366595\n",
       "10  36-45             B  426450764\n",
       "11  36-45             C  347832206\n",
       "12  46-50             A   62621435\n",
       "13  46-50             B  185012084\n",
       "14  46-50             C  165784704\n",
       "15  51-55             A   57155885\n",
       "16  51-55             B  163783897\n",
       "17  51-55             C  140968574\n",
       "18    55+             A   29969003\n",
       "19    55+             B   49708104"
      ]
     },
     "execution_count": 104,
     "metadata": {},
     "output_type": "execute_result"
    }
   ],
   "source": [
    "# 这里我们开始计算出不同年龄段消费者的购物花销了\n",
    "# 这里首先获得年龄、城市和购物花销计算后的数据\n",
    "city_age = pd.pivot_table(data,index=['Age','City_Category'],values='Purchase',aggfunc=np.sum).reset_index()\n",
    "city_age.head(20)"
   ]
  },
  {
   "cell_type": "code",
   "execution_count": 114,
   "metadata": {
    "ExecuteTime": {
     "end_time": "2020-07-27T10:36:09.057682Z",
     "start_time": "2020-07-27T10:36:09.052235Z"
    }
   },
   "outputs": [
    {
     "data": {
      "text/plain": [
       "['0-17', '18-25', '26-35', '36-45', '46-50', '51-55', '55+']"
      ]
     },
     "execution_count": 114,
     "metadata": {},
     "output_type": "execute_result"
    }
   ],
   "source": [
    "tick_label1=city_age['Age'].unique().tolist()\n",
    "tick_label1"
   ]
  },
  {
   "cell_type": "code",
   "execution_count": 117,
   "metadata": {
    "ExecuteTime": {
     "end_time": "2020-07-27T10:37:00.134001Z",
     "start_time": "2020-07-27T10:36:59.921714Z"
    }
   },
   "outputs": [
    {
     "data": {
      "image/png": "[encoded data removed]",
      "text/plain": [
       "<Figure size 648x360 with 1 Axes>"
      ]
     },
     "metadata": {
      "needs_background": "light"
     },
     "output_type": "display_data"
    },
    {
     "data": {
      "text/plain": [
       "array([0, 1, 2, 3, 4, 5, 6])"
      ]
     },
     "execution_count": 117,
     "metadata": {},
     "output_type": "execute_result"
    }
   ],
   "source": [
    "# 城市A 城市B 城市C 按照不同年龄段消费者的购物花销 绘制成为一张图，你可以自由的去选择使用的图形，比如柱状图等\n",
    "x1 = np.arange(7)\n",
    "bar_width = 0.25\n",
    "tick_label = tick_label1\n",
    "plt.figure(figsize = (9,5))\n",
    "plt.bar(x1,city_age[city_age['City_Category'] =='A']['Purchase'],bar_width,color='y',align='center',label= '城市A',alpha=0.5)\n",
    "plt.bar(x1+bar_width,city_age[city_age['City_Category'] =='B']['Purchase'],bar_width,color='b',align='center',label='城市B',alpha=0.3)\n",
    "plt.bar(x1+bar_width*2,city_age[city_age['City_Category'] =='C']['Purchase'],bar_width,color='c',align='center',label='城市C',alpha=0.8)\n",
    "plt.xlabel('年龄段')\n",
    "plt.ylabel('购物花销')\n",
    "plt.title('不同城市中不同年龄消费者的购物图') \n",
    "plt.xticks(x1+bar_width,tick_label)\n",
    "plt.legend()\n",
    "plt.show()\n",
    "x1"
   ]
  },
  {
   "cell_type": "markdown",
   "metadata": {},
   "source": [
    "####  根据图形结果分析出在不同的城市中，男性的购物花销依和女性的购物花销哪个更高呢。\n",
    "#### 并且哪个年龄段的消费者是城市的消费主力呢？\n",
    "\n",
    "这里写一下你的结论\n",
    "- \n",
    "- 在26-45岁的人民是城市的消费主力\n",
    "\n",
    "- 在任何不同城市中，男性的购物花销都比女生的购物花销要高\n",
    "- \n"
   ]
  },
  {
   "cell_type": "code",
   "execution_count": null,
   "metadata": {},
   "outputs": [],
   "source": []
  },
  {
   "cell_type": "code",
   "execution_count": null,
   "metadata": {},
   "outputs": [],
   "source": []
  },
  {
   "cell_type": "code",
   "execution_count": null,
   "metadata": {},
   "outputs": [],
   "source": []
  },
  {
   "cell_type": "code",
   "execution_count": null,
   "metadata": {},
   "outputs": [],
   "source": []
  }
 ],
 "metadata": {
  "kernelspec": {
   "display_name": "Python 3",
   "language": "python",
   "name": "python3"
  },
  "language_info": {
   "codemirror_mode": {
    "name": "ipython",
    "version": 3
   },
   "file_extension": ".py",
   "mimetype": "text/x-python",
   "name": "python",
   "nbconvert_exporter": "python",
   "pygments_lexer": "ipython3",
   "version": "3.8.3"
  },
  "varInspector": {
   "cols": {
    "lenName": 16,
    "lenType": 16,
    "lenVar": 40
   },
   "kernels_config": {
    "python": {
     "delete_cmd_postfix": "",
     "delete_cmd_prefix": "del ",
     "library": "var_list.py",
     "varRefreshCmd": "print(var_dic_list())"
    },
    "r": {
     "delete_cmd_postfix": ") ",
     "delete_cmd_prefix": "rm(",
     "library": "var_list.r",
     "varRefreshCmd": "cat(var_dic_list()) "
    }
   },
   "oldHeight": 122,
   "position": {
    "height": "40px",
    "left": "897px",
    "right": "20px",
    "top": "67px",
    "width": "250px"
   },
   "types_to_exclude": [
    "module",
    "function",
    "builtin_function_or_method",
    "instance",
    "_Feature"
   ],
   "varInspector_section_display": "none",
   "window_display": true
  }
 },
 "nbformat": 4,
 "nbformat_minor": 2
}
